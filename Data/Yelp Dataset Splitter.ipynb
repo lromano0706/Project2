{
 "cells": [
  {
   "cell_type": "code",
   "execution_count": 1,
   "metadata": {},
   "outputs": [],
   "source": [
    "import pandas as pd"
   ]
  },
  {
   "cell_type": "code",
   "execution_count": 33,
   "metadata": {},
   "outputs": [],
   "source": [
    "# original file too big to put on github\n",
    "file = \"yelp_academic_dataset_business.json\" \n",
    "\n",
    "df = pd.read_json(file, lines=True)\n",
    "states = df.state.unique()"
   ]
  },
  {
   "cell_type": "code",
   "execution_count": 35,
   "metadata": {},
   "outputs": [
    {
     "name": "stdout",
     "output_type": "stream",
     "text": [
      "CO 3198\n",
      "OR 25175\n",
      "FL 21907\n",
      "GA 18090\n",
      "BC 17298\n",
      "OH 11258\n",
      "TX 24485\n",
      "MA 36012\n",
      "WA 3121\n",
      "KS 1\n",
      "CA 13\n",
      "NM 1\n",
      "NC 1\n",
      "OK 1\n",
      "IL 1\n",
      "NY 2\n",
      "AZ 2\n",
      "ON 2\n",
      "NH 4\n",
      "DE 1\n",
      "MN 1\n",
      "VA 2\n",
      "WI 1\n",
      "WY 1\n",
      "KY 1\n",
      "MI 1\n",
      "DC 1\n",
      "ME 1\n",
      "ABE 1\n",
      "AL 1\n",
      "HI 1\n"
     ]
    }
   ],
   "source": [
    "for x in states:\n",
    "    number = len(df[df.state == x])\n",
    "    print(x, number)"
   ]
  },
  {
   "cell_type": "code",
   "execution_count": 38,
   "metadata": {},
   "outputs": [],
   "source": [
    "desired_state = \"OH\"\n",
    "df[df.state == desired_state].to_json(f\"{desired_state}_yelp_businesses.json\", orient=\"records\")"
   ]
  },
  {
   "cell_type": "code",
   "execution_count": null,
   "metadata": {},
   "outputs": [],
   "source": []
  }
 ],
 "metadata": {
  "kernelspec": {
   "display_name": "Python 3",
   "language": "python",
   "name": "python3"
  },
  "language_info": {
   "codemirror_mode": {
    "name": "ipython",
    "version": 3
   },
   "file_extension": ".py",
   "mimetype": "text/x-python",
   "name": "python",
   "nbconvert_exporter": "python",
   "pygments_lexer": "ipython3",
   "version": "3.8.5"
  }
 },
 "nbformat": 4,
 "nbformat_minor": 4
}
